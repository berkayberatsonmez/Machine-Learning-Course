{
  "cells": [
    {
      "cell_type": "markdown",
      "metadata": {
        "id": "view-in-github",
        "colab_type": "text"
      },
      "source": [
        "<a href=\"https://colab.research.google.com/github/berkayberatsonmez/Machine-Learning-Course/blob/main/Anomaly_Detection.ipynb\" target=\"_parent\"><img src=\"https://colab.research.google.com/assets/colab-badge.svg\" alt=\"Open In Colab\"/></a>"
      ]
    },
    {
      "cell_type": "code",
      "execution_count": 258,
      "metadata": {
        "id": "Axh9-qM-u3ZY"
      },
      "outputs": [],
      "source": [
        "import pandas as pd\n",
        "import numpy as np\n",
        "pd.set_option('display.max_columns', None)\n",
        "pd.set_option('display.width', 500)\n",
        "pd.set_option('display.max_rows', None)"
      ]
    },
    {
      "cell_type": "code",
      "execution_count": 259,
      "metadata": {
        "id": "mVv88LNqwVkI"
      },
      "outputs": [],
      "source": [
        "import os\n",
        "import glob\n",
        "files = os.path.join('/content/','random*.pcap_Flow.csv')\n",
        "files = glob.glob(files)\n",
        "ddos = pd.read_csv('/content/Ddos.csv')\n",
        "df = pd.concat(map(pd.read_csv, files), ignore_index=True)"
      ]
    },
    {
      "cell_type": "code",
      "execution_count": 260,
      "metadata": {
        "id": "VgfmvRRdw9Ml"
      },
      "outputs": [],
      "source": [
        "ddos = ddos.loc[:,[' Fwd Packet Length Std',' Packet Length Std',' Flow IAT Min',' Min Packet Length',' Average Packet Size',' Fwd Packet Length Min',' Fwd Packet Length Max',' Max Packet Length',' Label']]\n",
        "df = df.loc[:,['Fwd Packet Length Std','Packet Length Std','Flow IAT Min','Packet Length Min','Average Packet Size','Fwd Packet Length Min','Fwd Packet Length Max','Packet Length Max','Label']]"
      ]
    },
    {
      "cell_type": "code",
      "source": [
        "ddos.columns ='Fwd Packet Length Std','Packet Length Std','Flow IAT Min','Packet Length Min','Average Packet Size','Fwd Packet Length Min','Fwd Packet Length Max','Packet Length Max','Label'"
      ],
      "metadata": {
        "id": "_2vjbFBWiuAW"
      },
      "execution_count": 261,
      "outputs": []
    },
    {
      "cell_type": "code",
      "source": [
        "df = df.append(ddos)"
      ],
      "metadata": {
        "id": "KIww_P9PjmaO"
      },
      "execution_count": 262,
      "outputs": []
    },
    {
      "cell_type": "code",
      "source": [
        "df['Label'] = [ 1 if each == \"BENIGN\" else 0 for each in df['Label']]"
      ],
      "metadata": {
        "id": "0uyGTLzWa2Wz"
      },
      "execution_count": 263,
      "outputs": []
    },
    {
      "cell_type": "code",
      "source": [
        "df = df.sample(frac=1, random_state=1)"
      ],
      "metadata": {
        "id": "SOmc5i7Nq3Vn"
      },
      "execution_count": 264,
      "outputs": []
    },
    {
      "cell_type": "code",
      "source": [
        "y = df['Label'].values\n",
        "x_data= df.drop([\"Label\"],axis=1)"
      ],
      "metadata": {
        "id": "M3wJElx3bF_6"
      },
      "execution_count": 265,
      "outputs": []
    },
    {
      "cell_type": "code",
      "source": [
        "x = x_data"
      ],
      "metadata": {
        "id": "JlZsi6pakuYp"
      },
      "execution_count": 266,
      "outputs": []
    },
    {
      "cell_type": "code",
      "source": [
        "from sklearn.model_selection import train_test_split\n",
        "x_train, x_test,y_train, y_test = train_test_split(x,y,test_size = 0.4,random_state = 42)"
      ],
      "metadata": {
        "id": "5Hxq2s0lkMxT"
      },
      "execution_count": 267,
      "outputs": []
    },
    {
      "cell_type": "code",
      "source": [
        "from sklearn.svm import SVC\n",
        "classifier = SVC(kernel='rbf', random_state = 0)\n",
        "classifier.fit(x_train, y_train)"
      ],
      "metadata": {
        "colab": {
          "base_uri": "https://localhost:8080/"
        },
        "id": "54VonoWJkPoL",
        "outputId": "6b494f7c-d84e-4426-e839-5b13d521c416"
      },
      "execution_count": 268,
      "outputs": [
        {
          "output_type": "execute_result",
          "data": {
            "text/plain": [
              "SVC(random_state=0)"
            ]
          },
          "metadata": {},
          "execution_count": 268
        }
      ]
    },
    {
      "cell_type": "code",
      "source": [
        "y_pred = classifier.predict(x_test)\n"
      ],
      "metadata": {
        "id": "0j1IvmZ2kW4Z"
      },
      "execution_count": 269,
      "outputs": []
    },
    {
      "cell_type": "code",
      "source": [
        "from sklearn.metrics import confusion_matrix\n",
        "print('SVC')\n",
        "cm = confusion_matrix(y_test, y_pred)\n",
        "print(cm)"
      ],
      "metadata": {
        "colab": {
          "base_uri": "https://localhost:8080/"
        },
        "id": "-o6CUq50kZSl",
        "outputId": "b1304b08-4de1-41ec-fdeb-a788f081af45"
      },
      "execution_count": 270,
      "outputs": [
        {
          "output_type": "stream",
          "name": "stdout",
          "text": [
            "SVC\n",
            "[[453   0]\n",
            " [ 58   0]]\n"
          ]
        }
      ]
    },
    {
      "cell_type": "code",
      "source": [
        "from sklearn.linear_model import LinearRegression\n",
        "reg = LinearRegression()\n",
        "# Fit\n",
        "reg.fit(x_train,y_train)\n",
        "# R^2 \n",
        "print('R^2 score: ',reg.score(x, y))"
      ],
      "metadata": {
        "colab": {
          "base_uri": "https://localhost:8080/"
        },
        "id": "JRAjQ5Zb151n",
        "outputId": "5259fbc3-f09a-47ff-93f6-fbbfc49f1df4"
      },
      "execution_count": 271,
      "outputs": [
        {
          "output_type": "stream",
          "name": "stdout",
          "text": [
            "R^2 score:  0.4371681010345615\n"
          ]
        }
      ]
    },
    {
      "cell_type": "code",
      "source": [
        "print('REG')\n",
        "cm = confusion_matrix(y_test,y_pred)\n",
        "print(cm)"
      ],
      "metadata": {
        "colab": {
          "base_uri": "https://localhost:8080/"
        },
        "id": "6SSRpjvE2gvh",
        "outputId": "b0a33049-e7dc-4f91-daab-cbefe2d4122e"
      },
      "execution_count": 272,
      "outputs": [
        {
          "output_type": "stream",
          "name": "stdout",
          "text": [
            "REG\n",
            "[[453   0]\n",
            " [ 58   0]]\n"
          ]
        }
      ]
    },
    {
      "cell_type": "code",
      "source": [
        "from sklearn.model_selection import cross_val_score\n",
        "reg = LinearRegression()\n",
        "k = 5\n",
        "cv_result = cross_val_score(reg,x,y,cv=k) # uses R^2 as score \n",
        "print('CV Scores: ',cv_result)\n",
        "print('CV scores average: ',np.sum(cv_result)/k)"
      ],
      "metadata": {
        "colab": {
          "base_uri": "https://localhost:8080/"
        },
        "id": "1c6024gVypcN",
        "outputId": "0f536f42-9fa3-445b-9021-7583bb8a98c0"
      },
      "execution_count": 273,
      "outputs": [
        {
          "output_type": "stream",
          "name": "stdout",
          "text": [
            "CV Scores:  [0.37522618 0.28995281 0.49897333 0.46641131 0.47019294]\n",
            "CV scores average:  0.42015131246272813\n"
          ]
        }
      ]
    },
    {
      "cell_type": "code",
      "source": [
        "from sklearn.linear_model import LogisticRegression\n",
        "\n",
        "logr = LogisticRegression(random_state = 0) \n",
        "logr.fit(x_train,y_train)\n",
        "\n",
        "y_pred = logr.predict(x_test)"
      ],
      "metadata": {
        "colab": {
          "base_uri": "https://localhost:8080/"
        },
        "id": "FywVqrCdn3V_",
        "outputId": "4db093f7-6372-4384-f03c-6f03cdf9634b"
      },
      "execution_count": 274,
      "outputs": [
        {
          "output_type": "stream",
          "name": "stderr",
          "text": [
            "/usr/local/lib/python3.7/dist-packages/sklearn/linear_model/_logistic.py:818: ConvergenceWarning: lbfgs failed to converge (status=1):\n",
            "STOP: TOTAL NO. of ITERATIONS REACHED LIMIT.\n",
            "\n",
            "Increase the number of iterations (max_iter) or scale the data as shown in:\n",
            "    https://scikit-learn.org/stable/modules/preprocessing.html\n",
            "Please also refer to the documentation for alternative solver options:\n",
            "    https://scikit-learn.org/stable/modules/linear_model.html#logistic-regression\n",
            "  extra_warning_msg=_LOGISTIC_SOLVER_CONVERGENCE_MSG,\n"
          ]
        }
      ]
    },
    {
      "cell_type": "code",
      "source": [
        "print('LOGR')\n",
        "cm = confusion_matrix(y_test,y_pred)\n",
        "print(cm)"
      ],
      "metadata": {
        "colab": {
          "base_uri": "https://localhost:8080/"
        },
        "id": "nRWaLFWZoq47",
        "outputId": "7de5d4cd-716f-4c0b-8abb-49a12a2a73da"
      },
      "execution_count": 275,
      "outputs": [
        {
          "output_type": "stream",
          "name": "stdout",
          "text": [
            "LOGR\n",
            "[[445   8]\n",
            " [ 13  45]]\n"
          ]
        }
      ]
    },
    {
      "cell_type": "code",
      "source": [
        "#KNN\n",
        "from sklearn.neighbors import KNeighborsClassifier\n",
        "\n",
        "knn = KNeighborsClassifier(n_neighbors = 1, metric = 'minkowski')\n",
        "\n",
        "knn.fit(x_train,y_train)\n",
        "\n",
        "y_pred = knn.predict(x_test)"
      ],
      "metadata": {
        "id": "wg4M1Vqzn7Dp"
      },
      "execution_count": 276,
      "outputs": []
    },
    {
      "cell_type": "code",
      "source": [
        "print('KNN')\n",
        "cm = confusion_matrix(y_test,y_pred)\n",
        "print(cm)"
      ],
      "metadata": {
        "colab": {
          "base_uri": "https://localhost:8080/"
        },
        "id": "9OurlRh0ooos",
        "outputId": "08562f03-8a49-4122-f349-beedc3ad717f"
      },
      "execution_count": 277,
      "outputs": [
        {
          "output_type": "stream",
          "name": "stdout",
          "text": [
            "KNN\n",
            "[[452   1]\n",
            " [  6  52]]\n"
          ]
        }
      ]
    },
    {
      "cell_type": "code",
      "source": [
        "#support vector machine\n",
        "from sklearn.svm import SVC\n",
        "#svc = SVC(kernel = 'linear') #doğrusal formülünü kullanıyoruz\n",
        "svc = SVC(kernel = 'rbf') #başarı oranına bakmak için değişik kernelları deniyoruz \n",
        "#svc = SVC(kernel = 'poly')\n",
        "svc.fit(x_train,y_train)\n",
        "\n",
        "y_pred = svc.predict(x_test)"
      ],
      "metadata": {
        "id": "zHWaeJu_n-Gt"
      },
      "execution_count": 278,
      "outputs": []
    },
    {
      "cell_type": "code",
      "source": [
        "print('SVC')\n",
        "cm = confusion_matrix(y_test,y_pred)\n",
        "print(cm)"
      ],
      "metadata": {
        "colab": {
          "base_uri": "https://localhost:8080/"
        },
        "id": "qpqp5aDSoBBP",
        "outputId": "919a10a3-726a-407d-faef-43e53d26f6d2"
      },
      "execution_count": 279,
      "outputs": [
        {
          "output_type": "stream",
          "name": "stdout",
          "text": [
            "SVC\n",
            "[[453   0]\n",
            " [ 58   0]]\n"
          ]
        }
      ]
    },
    {
      "cell_type": "code",
      "source": [
        "test = pd.read_csv('rftest.csv')"
      ],
      "metadata": {
        "id": "JYnT3x_Erflp"
      },
      "execution_count": 280,
      "outputs": []
    },
    {
      "cell_type": "code",
      "source": [
        "test = test.loc[:,[' Fwd Packet Length Std',' Packet Length Std',' Flow IAT Min',' Min Packet Length',' Average Packet Size',' Fwd Packet Length Min',' Fwd Packet Length Max',' Max Packet Length',' Label']]"
      ],
      "metadata": {
        "id": "LDvAKpZersWY"
      },
      "execution_count": 281,
      "outputs": []
    },
    {
      "cell_type": "code",
      "source": [
        "test.columns ='Fwd Packet Length Std','Packet Length Std','Flow IAT Min','Packet Length Min','Average Packet Size','Fwd Packet Length Min','Fwd Packet Length Max','Packet Length Max','Label'"
      ],
      "metadata": {
        "id": "aNN6hh_ErtPg"
      },
      "execution_count": 282,
      "outputs": []
    },
    {
      "cell_type": "code",
      "source": [
        "test['Label'] = [ 1 if each == \"BENIGN\" else 0 for each in test['Label']]"
      ],
      "metadata": {
        "id": "d7NUZ_yasdWR"
      },
      "execution_count": 283,
      "outputs": []
    },
    {
      "cell_type": "code",
      "source": [
        "x_testt= test.drop([\"Label\"],axis=1)\n",
        "ytest = test['Label'].values"
      ],
      "metadata": {
        "id": "4icamdrNsw7X"
      },
      "execution_count": 284,
      "outputs": []
    },
    {
      "cell_type": "code",
      "source": [
        "y_test_pred= knn.predict(x_testt)"
      ],
      "metadata": {
        "id": "h3MkGwfntDUw"
      },
      "execution_count": 285,
      "outputs": []
    },
    {
      "cell_type": "code",
      "source": [
        "cm = confusion_matrix(ytest,y_test_pred)\n",
        "cm"
      ],
      "metadata": {
        "colab": {
          "base_uri": "https://localhost:8080/"
        },
        "id": "AuhNz-KUtMzU",
        "outputId": "3adff5b3-6613-4239-9660-4fbf9acbd2cc"
      },
      "execution_count": 286,
      "outputs": [
        {
          "output_type": "execute_result",
          "data": {
            "text/plain": [
              "array([[ 873,   23],\n",
              "       [ 938, 3257]])"
            ]
          },
          "metadata": {},
          "execution_count": 286
        }
      ]
    },
    {
      "cell_type": "code",
      "source": [
        "from sklearn.metrics import classification_report\n",
        "print('Classification report: \\n',classification_report(ytest,y_test_pred))"
      ],
      "metadata": {
        "colab": {
          "base_uri": "https://localhost:8080/"
        },
        "id": "bTe-qALdxE1v",
        "outputId": "b9c7b31a-2781-462a-8692-207d671fd446"
      },
      "execution_count": 287,
      "outputs": [
        {
          "output_type": "stream",
          "name": "stdout",
          "text": [
            "Classification report: \n",
            "               precision    recall  f1-score   support\n",
            "\n",
            "           0       0.48      0.97      0.64       896\n",
            "           1       0.99      0.78      0.87      4195\n",
            "\n",
            "    accuracy                           0.81      5091\n",
            "   macro avg       0.74      0.88      0.76      5091\n",
            "weighted avg       0.90      0.81      0.83      5091\n",
            "\n"
          ]
        }
      ]
    }
  ],
  "metadata": {
    "colab": {
      "collapsed_sections": [],
      "name": "Anomaly_Detection.ipynb",
      "provenance": [],
      "authorship_tag": "ABX9TyMBpnYlxnQjO7Zfhcpx6Mpz",
      "include_colab_link": true
    },
    "kernelspec": {
      "display_name": "Python 3",
      "name": "python3"
    },
    "language_info": {
      "name": "python"
    }
  },
  "nbformat": 4,
  "nbformat_minor": 0
}